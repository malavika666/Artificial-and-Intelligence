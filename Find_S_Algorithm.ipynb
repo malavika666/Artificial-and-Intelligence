{
 "cells": [
  {
   "cell_type": "code",
   "execution_count": 24,
   "id": "022f57b1",
   "metadata": {},
   "outputs": [
    {
     "name": "stdout",
     "output_type": "stream",
     "text": [
      "      Time Weather Temperature Company Humidity    Wind Goes\n",
      "1  Morning   Sunny        Warm     Yes     Mild  Strong  Yes\n",
      "2  Evening   Rainy        Cold      No     Mild  Normal   No\n",
      "3  Morning   Sunny    Moderate     Yes   Normal  Normal  Yes\n",
      "4  Evening   Sunny        Cold     Yes     High  Strong  Yes n\n",
      "n The attributes are:  [['Morning' 'Sunny' 'Warm' 'Yes' 'Mild' 'Strong']\n",
      " ['Evening' 'Rainy' 'Cold' 'No' 'Mild' 'Normal']\n",
      " ['Morning' 'Sunny' 'Moderate' 'Yes' 'Normal' 'Normal']\n",
      " ['Evening' 'Sunny' 'Cold' 'Yes' 'High' 'Strong']]\n",
      "n The target is:  ['Yes' 'No' 'Yes' 'Yes']\n",
      "n The final hypothesis is: ['?' 'Sunny' '?' 'Yes' '?' '?']\n"
     ]
    }
   ],
   "source": [
    "import pandas as pd\n",
    "import numpy as np\n",
    " \n",
    "#to read the data in the csv file\n",
    "data = pd.read_csv(\"training_example.csv\")\n",
    "print(data,\"n\")\n",
    " \n",
    "#making an array of all the attributes\n",
    "d = np.array(data)[:,:-1]\n",
    "print(\"n The attributes are: \",d)\n",
    " \n",
    "#segragating the target that has positive and negative examples\n",
    "target = np.array(data)[:,-1]\n",
    "print(\"n The target is: \",target)\n",
    " \n",
    "#training function to implement find-s algorithm\n",
    "def train(c,t):\n",
    "    for i, val in enumerate(t):\n",
    "        if val == \"Yes\":\n",
    "            specific_hypothesis = c[i].copy()\n",
    "            break\n",
    "             \n",
    "    for i, val in enumerate(c):\n",
    "        if t[i] == \"Yes\":\n",
    "            for x in range(len(specific_hypothesis)):\n",
    "                if val[x] != specific_hypothesis[x]:\n",
    "                    specific_hypothesis[x] = '?'\n",
    "                else:\n",
    "                    pass\n",
    "                 \n",
    "    return specific_hypothesis\n",
    " \n",
    "#obtaining the final hypothesis\n",
    "print(\"n The final hypothesis is:\",train(d,target))"
   ]
  },
  {
   "cell_type": "code",
   "execution_count": 28,
   "id": "2985564a",
   "metadata": {},
   "outputs": [
    {
     "name": "stdout",
     "output_type": "stream",
     "text": [
      "\n",
      "The given training examples are:\n",
      "['Sunny', 'Warm', 'Normal', 'Strong', 'Warm', 'Same', 'Yes']\n",
      "['Sunny', 'Warm', 'High', 'Strong', 'Warm', 'Same', 'Yes']\n",
      "['Rainy', 'Cold', 'High', 'Strong', 'Warm', 'Change', 'No']\n",
      "['Sunny', 'Warm', 'High', 'Strong', 'Cool', 'Change', 'Yes']\n",
      "\n",
      "The positive examples are:\n",
      "['Sunny', 'Warm', 'Normal', 'Strong', 'Warm', 'Same', 'Yes']\n",
      "['Sunny', 'Warm', 'High', 'Strong', 'Warm', 'Same', 'Yes']\n",
      "['Sunny', 'Warm', 'High', 'Strong', 'Cool', 'Change', 'Yes']\n",
      "\n",
      "The steps of the Find-s algorithm are\n",
      " ['%', '%', '%', '%', '%', '%']\n",
      "['Sunny', 'Warm', '?', 'Strong', 'Warm', 'Same']\n",
      "['Sunny', 'Warm', '?', 'Strong', '?', '?']\n",
      "\n",
      "The maximally specific Find-s hypothesis for the given training examples is\n",
      "['Sunny', 'Warm', '?', 'Strong', '?', '?']\n"
     ]
    }
   ],
   "source": [
    "#1. Write a program to implement the FIND-S Algorithm for finding the most specific hypothesis based on a given set of training data samples. Read the training data from a .CSV file\n",
    "import csv\n",
    "hypo=['%','%','%','%','%','%']\n",
    "with open('ws.csv') as csv_file:\n",
    "    readcsv=csv.reader(csv_file,delimiter=',')\n",
    "    data=[]\n",
    "    print(\"\\nThe given training examples are:\")\n",
    "    for row in readcsv:\n",
    "        print(row)\n",
    "        if row[len(row)-1]=='Yes':\n",
    "            data.append(row)\n",
    "print(\"\\nThe positive examples are:\")\n",
    "for x in data:\n",
    "    print(x)\n",
    "TotalExamples=len(data)\n",
    "i=0\n",
    "j=0\n",
    "k=0\n",
    "print(\"\\nThe steps of the Find-s algorithm are\\n\",hypo)\n",
    "list=[]\n",
    "p=0\n",
    "d=len(data[p])-1\n",
    "for j in range(d):\n",
    "    list.append(data[i][j])\n",
    "hypo=list\n",
    "for i in range(1,TotalExamples):\n",
    "    for k in range(d):\n",
    "        if hypo[k]!=data[i][k]:\n",
    "            hypo[k]='?'\n",
    "        else:\n",
    "             hypo[k]\n",
    "    print(hypo)\n",
    "print(\"\\nThe maximally specific Find-s hypothesis for the given training examples is\");\n",
    "list=[]\n",
    "for i in range(d):\n",
    "    list.append(hypo[i])\n",
    "print(list)"
   ]
  },
  {
   "cell_type": "code",
   "execution_count": null,
   "id": "f680b857",
   "metadata": {},
   "outputs": [],
   "source": []
  }
 ],
 "metadata": {
  "kernelspec": {
   "display_name": "Python 3 (ipykernel)",
   "language": "python",
   "name": "python3"
  },
  "language_info": {
   "codemirror_mode": {
    "name": "ipython",
    "version": 3
   },
   "file_extension": ".py",
   "mimetype": "text/x-python",
   "name": "python",
   "nbconvert_exporter": "python",
   "pygments_lexer": "ipython3",
   "version": "3.9.13"
  }
 },
 "nbformat": 4,
 "nbformat_minor": 5
}
